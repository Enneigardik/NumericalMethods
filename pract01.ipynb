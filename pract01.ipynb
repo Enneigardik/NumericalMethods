{
  "nbformat": 4,
  "nbformat_minor": 0,
  "metadata": {
    "colab": {
      "name": "Копия блокнота \"Копия блокнота \"Копия блокнота \"Untitled2.ipynb\"\"\"",
      "provenance": [],
      "collapsed_sections": [],
      "authorship_tag": "ABX9TyP3An6fdO5XSLGTk1wa0fvw",
      "include_colab_link": true
    },
    "kernelspec": {
      "name": "python3",
      "display_name": "Python 3"
    }
  },
  "cells": [
    {
      "cell_type": "markdown",
      "metadata": {
        "id": "view-in-github",
        "colab_type": "text"
      },
      "source": [
        "<a href=\"https://colab.research.google.com/github/miicha007/NumericalMethods/blob/main/pract01.ipynb\" target=\"_parent\"><img src=\"https://colab.research.google.com/assets/colab-badge.svg\" alt=\"Open In Colab\"/></a>"
      ]
    },
    {
      "cell_type": "code",
      "metadata": {
        "id": "gKCb5O28HGep"
      },
      "source": [
        "\n",
        "from IPython.display import display, Math, Latex\n",
        "class Rational:\n",
        "  def __init__(self,z,n=1):\n",
        "    self.z=z\n",
        "    self.n=n\n",
        "    self.normalize()\n",
        "  def __str__(self):\n",
        "    return str(self.z)+\"/\"+str(self.n)\n",
        "  def normalize(self):\n",
        "    if  self.n<0 :\n",
        "      self.z=-self.z\n",
        "      self.n=-self.n\n",
        "    g = Rational.gcd(abs(self.z),abs(self.n))\n",
        "    self.z=self.z//g\n",
        "    self.n=self.n//g\n",
        "  def __neg__(self):\n",
        "    return Rational(-self.z,self.n)\n",
        "  def __abs__(self):\n",
        "    return Rational(abs(self.z),abs(self.n))\n",
        "  def __radd__(self,other):\n",
        "    return self.__add__(other)\n",
        "  def __add__(self,other):\n",
        "    if type(other)==Rational:\n",
        "      n = self.n\n",
        "      self.z = self.z*other.n\n",
        "      self.n = self.n*other.n\n",
        "      other.z = other.z*n\n",
        "      other.n = other.n*n\n",
        "      self.z = self.z+ other.z\n",
        "      self.normalize()\n",
        "    elif type(other)==int:\n",
        "      return self + Rational(other)\n",
        "    else:\n",
        "      return self.z/self.n + other\n",
        "    return self\n",
        "  def __rsub__(self,other):\n",
        "    self.z = -self.z\n",
        "    return self+other\n",
        "    \n",
        "  def __sub__(self,other):\n",
        "    if type(other)==Rational:\n",
        "      n = self.n\n",
        "      self.z = self.z*other.n\n",
        "      self.n = self.n*other.n\n",
        "      other.z = other.z*n\n",
        "      other.n = other.n*n\n",
        "      self.z = self.z- other.z\n",
        "      self.normalize()\n",
        "    elif type(other)==int:\n",
        "      return self - Rational(other)\n",
        "    else:\n",
        "      return self.z/self.n - other\n",
        "    return self\n",
        "  def __rmul__(self,other):\n",
        "    return self.__mul__(other)\n",
        "  def __mul__(self,other):\n",
        "    if type(other)==Rational:\n",
        "      self.z=self.z*other.z\n",
        "      self.n=self.n*other.n\n",
        "      self.normalize()\n",
        "    elif type(other)==int:\n",
        "      self.z*=other\n",
        "      self.normalize()\n",
        "    else:\n",
        "      return self.z/self.n*other\n",
        "    return self\n",
        "  def __rtruediv__(self,other):\n",
        "    self.z,self.n=self.n,self.z\n",
        "    return self*other\n",
        "\n",
        "\n",
        "  def __truediv__(self,other):\n",
        "    if type(other)==Rational:\n",
        "      self.z*=other.n\n",
        "      self.n*=other.z\n",
        "      self.normalize()\n",
        "    elif type(other)==int:\n",
        "      self.n*=other\n",
        "      self.normalize()\n",
        "    else:\n",
        "      return self.z/(self.n*other)*1.0\n",
        "    return self\n",
        "  def __pow__(self,other):\n",
        "    new_self = Rational(1)\n",
        "    for i in range(other):\n",
        "      new_self = new_self * self\n",
        "    new_self.normalize()\n",
        "    return new_self\n",
        "  def gcd(a, b): \n",
        "    while a != 0 and b != 0:\n",
        "        if a > b:\n",
        "            a = a % b \n",
        "        else:\n",
        "            b = b % a \n",
        "    return max(a, b)\n",
        "  \n",
        "\n",
        "  def __lt__(self, other):# - x < y вызывает x.__lt__(y).\n",
        "    if type(other)==Rational:\n",
        "      return self.z*other.n < other.z*self.n\n",
        "    else:\n",
        "      return self.z/self.n<other\n",
        "  def __eq__(self, other):# - x == y вызывает x.__eq__(y).\n",
        "    if type(other)==Rational:\n",
        "      return self.z*other.n == other.z*self.n\n",
        "    else:\n",
        "      return self.z/self.n==other\n",
        "  \n",
        "  def __gt__(self, other):# - x > y вызывает x.__gt__(y).\n",
        "    if type(other)==Rational:\n",
        "      return self.z*other.n > other.z*self.n\n",
        "    else:\n",
        "      return self.z/self.n>other\n",
        "  def __le__(self, other):# - x ≤ y вызывает x.__le__(y).\n",
        "    return self<other or self==other\n",
        "  def __ge__(self, other):# - x ≥ y вызывает x.__ge__(y).\n",
        "    return self>other or self==other\n",
        "  def __ne__(self, other):# - x != y вызывает x.__ne__(y)\n",
        "    return not self==other\n",
        "\n",
        "  def evalf(self,n=15):\n",
        "    z = abs(self.z)\n",
        "    st = \"\"\n",
        "    st += str(z//self.n)\n",
        "    z %= self.n\n",
        "    z *=10\n",
        "    st+='.'\n",
        "    while z != 0 and len(st)<=n+1:\n",
        "      st += str(z//self.n)\n",
        "      z %= self.n\n",
        "      z *=10\n",
        "    if z!=0:\n",
        "      return st[:-2] + str(round(int(st[-2:]),-1))[0]\n",
        "    return st\n",
        "  def getMixedFrom(self):\n",
        "    return (int(self.z/self.n),Rational(abs(self.z)%self.n,self.n))\n",
        "  def show(self,mixed = False):\n",
        "    display(Math(self.toLatex(mixed)))\n",
        "  def toLatex(self,mixed = False):\n",
        "    if mixed:\n",
        "      i,vr = self.getMixedFrom()\n",
        "      return \"$\"+str(i)+'\\dfrac{' +str(vr.z)+'}{'+str(vr.n)+'}'+\"$\"     \n",
        "    return \"$\"+\"\\dfrac{\"+str(self.z)+'}{'+str(self.n)+'}'+\"$\"\n",
        "\n"
      ],
      "execution_count": null,
      "outputs": []
    },
    {
      "cell_type": "code",
      "metadata": {
        "colab": {
          "base_uri": "https://localhost:8080/"
        },
        "id": "1UHFU08JHii0",
        "outputId": "224ebe3d-a68e-43eb-8544-8ed1f9f02fbb"
      },
      "source": [
        ""
      ],
      "execution_count": null,
      "outputs": [
        {
          "output_type": "stream",
          "text": [
            "2.0\n"
          ],
          "name": "stdout"
        }
      ]
    },
    {
      "cell_type": "code",
      "metadata": {
        "colab": {
          "base_uri": "https://localhost:8080/"
        },
        "id": "1LjSFfv4zsLa",
        "outputId": "781a88bb-29b7-4d72-de9b-babc6654c8ac"
      },
      "source": [
        "#задание 1-4\n",
        "r = Rational(-10)\n",
        "print(r)\n",
        "r = Rational(-10/-2)\n",
        "print(r)\n",
        "r = Rational(10/-2)\n",
        "print(r)"
      ],
      "execution_count": null,
      "outputs": [
        {
          "output_type": "stream",
          "text": [
            "-10/1\n",
            "5.0/1\n",
            "-5.0/1\n"
          ],
          "name": "stdout"
        }
      ]
    },
    {
      "cell_type": "code",
      "metadata": {
        "colab": {
          "base_uri": "https://localhost:8080/"
        },
        "id": "AxwXmPSG0s_b",
        "outputId": "ee0516b2-3ef1-4053-a353-07d48f383d18"
      },
      "source": [
        "#задание 5 и 7 (+,-,*,/) с двух сторон\n",
        "print(\"\\nоперация '*'\")\n",
        "print(\"-2/3*-4/3=\",Rational(-2,3)*Rational(4,-3),\";\")\n",
        "print(\"-2/3*4=\",Rational(-2,3)*4,\";\",\"4*(-2/3)=\",4*Rational(-2,3))\n",
        "r = Rational(10,3)\n",
        "r = r*10.0\n",
        "print(\"10/3*10.0=\",r,\";\",end=' ')\n",
        "r = Rational(10,3)\n",
        "r = 10.0*r\n",
        "print(\"10.0*(10/3)=\",r,\";\")\n",
        "\n",
        "print(\"\\nоперация '/'\")\n",
        "print(\"(-2/3)/(4/3)=\",Rational(-2,3)/Rational(4,-3),';',\"(4/3)/(-2/3)=\",Rational(4,-3)/Rational(-2,3),';')\n",
        "print(\"(-2/3)/4=\",Rational(-2,3)/4,';',\"4/(-2/3)=\",4/Rational(-2,3),';')\n",
        "r = Rational(10,3)\n",
        "r = r/10.0\n",
        "print(\"(10/3)/10.0=\",r,end=' ')\n",
        "r = Rational(10,3)\n",
        "r = 10.0/r\n",
        "print(\"10.0/(10/3)=\",r)\n",
        "\n",
        "\n",
        "print(\"\\nоперация '-'\")\n",
        "print(\"3/4-5/3=\",Rational(3,4) - Rational(5,3),';')\n",
        "print(\"3/4-1=\",Rational(3,4) - 1,';',\"1-3/4=\",1-Rational(3,4),';')\n",
        "print(\"3/4-1.0=\",Rational(3,4) - 1.0,';',\"1.0-3/4=\",1.0-Rational(3,4),';')\n",
        "\n",
        "print(\"\\nоперация '+'\")\n",
        "print(Rational(3,4) + Rational(5,3))\n",
        "print(Rational(3,4) + 1,1+Rational(3,4) )\n",
        "print(Rational(3,4) + 1.0,1.0+Rational(3,4))\n"
      ],
      "execution_count": null,
      "outputs": [
        {
          "output_type": "stream",
          "text": [
            "\n",
            "операция '*'\n",
            "-2/3*-4/3= 8/9 ;\n",
            "-2/3*4= -8/3 ; 4*(-2/3)= -8/3\n",
            "10/3*10.0= 33.333333333333336 ; 10.0*(10/3)= 33.333333333333336 ;\n",
            "\n",
            "операция '/'\n",
            "(-2/3)/(4/3)= 1/2 ; (4/3)/(-2/3)= 2/1 ;\n",
            "(-2/3)/4= -1/6 ; 4/(-2/3)= -6/1 ;\n",
            "(10/3)/10.0= 0.3333333333333333 10.0/(10/3)= 3.0\n",
            "\n",
            "операция '-'\n",
            "3/4-5/3= -11/12 ;\n",
            "3/4-1= -1/4 ; 1-3/4= 1/4 ;\n",
            "3/4-1.0= -0.25 ; 1.0-3/4= 0.25 ;\n",
            "\n",
            "операция '+'\n",
            "29/12\n",
            "7/4 7/4\n",
            "1.75 1.75\n"
          ],
          "name": "stdout"
        }
      ]
    },
    {
      "cell_type": "code",
      "metadata": {
        "id": "3inLMFcJ51cF",
        "colab": {
          "base_uri": "https://localhost:8080/"
        },
        "outputId": "fd5f1183-aa99-481e-fa36-625e0fbd5e35"
      },
      "source": [
        "#задание 6 (**)\n",
        "\n",
        "print(\"-3**2=\", Rational(-3)**2)\n",
        "print(\"-3**3=\", Rational(-3)**3)\n"
      ],
      "execution_count": null,
      "outputs": [
        {
          "output_type": "stream",
          "text": [
            "-3**2= 9/1\n",
            "-3**3= -27/1\n"
          ],
          "name": "stdout"
        }
      ]
    },
    {
      "cell_type": "code",
      "metadata": {
        "id": "INmjTD3zLc1-",
        "colab": {
          "base_uri": "https://localhost:8080/"
        },
        "outputId": "610278d7-eb73-4693-d4c9-57380f2a1425"
      },
      "source": [
        "#задание 8 унарный минус\n",
        "print(Rational(-3),-Rational(-3))\n"
      ],
      "execution_count": null,
      "outputs": [
        {
          "output_type": "stream",
          "text": [
            "-3/1 3/1\n"
          ],
          "name": "stdout"
        }
      ]
    },
    {
      "cell_type": "code",
      "metadata": {
        "colab": {
          "base_uri": "https://localhost:8080/"
        },
        "id": "grSdhyNFY7ZQ",
        "outputId": "e2507810-0951-4c82-b2d0-47d702b6c9b5"
      },
      "source": [
        "#задание 9 abs\n",
        "print(abs(Rational(-3)))\n",
        "r = Rational(-3);\n",
        "#задание 10 операции +=,-=,*=,/= уже перегруженны автоматически.Не вижу смысла менять метод\n",
        "r*=2\n",
        "print(r)\n",
        "r*=2\n",
        "print(r)\n",
        "\n"
      ],
      "execution_count": null,
      "outputs": [
        {
          "output_type": "stream",
          "text": [
            "3/1\n",
            "-6/1\n",
            "-12/1\n"
          ],
          "name": "stdout"
        }
      ]
    },
    {
      "cell_type": "code",
      "metadata": {
        "colab": {
          "base_uri": "https://localhost:8080/"
        },
        "id": "PDtwctpieBdF",
        "outputId": "1010a396-4385-4616-91da-df0496efdccb"
      },
      "source": [
        "#задание 11 операции сравнения\n",
        "\n",
        "print(\"3/4 > 2/3 = \",Rational(3,4)>Rational(2,3))\n",
        "print(\"3/4 < 2/3 = \",Rational(3,4)<Rational(2,3))\n",
        "print(\"3/4 >= 2/3 = \",Rational(3,4)>=Rational(2,3))\n",
        "print(\"3/4 == 2/3 = \",Rational(3,4)==Rational(2,3))\n",
        "print(\"3/4 == 0.75 = \",Rational(3,4)==0.75)\n",
        "print(\"3/1 == 4 = \",Rational(3,1)!=3)"
      ],
      "execution_count": null,
      "outputs": [
        {
          "output_type": "stream",
          "text": [
            "3/4 > 2/3 =  True\n",
            "3/4 < 2/3 =  False\n",
            "3/4 >= 2/3 =  True\n",
            "3/4 == 2/3 =  False\n",
            "3/4 == 0.75 =  True\n",
            "3/1 == 4 =  False\n"
          ],
          "name": "stdout"
        }
      ]
    },
    {
      "cell_type": "code",
      "metadata": {
        "colab": {
          "base_uri": "https://localhost:8080/"
        },
        "id": "s7Brv5dnItbJ",
        "outputId": "d0a0a417-656b-4c9d-84e4-53f1d5d10f69"
      },
      "source": [
        "#задание 12 evalf\n",
        "r = Rational(-3,2);\n",
        "print(r.evalf())\n",
        "r = Rational(1,3);\n",
        "print(r.evalf(4))\n",
        "r = Rational(2,3);\n",
        "print(r.evalf())"
      ],
      "execution_count": null,
      "outputs": [
        {
          "output_type": "stream",
          "text": [
            "1.5\n",
            "0.333\n",
            "0.66666666666667\n"
          ],
          "name": "stdout"
        }
      ]
    },
    {
      "cell_type": "code",
      "metadata": {
        "colab": {
          "base_uri": "https://localhost:8080/"
        },
        "id": "Xg9S70LeLiY_",
        "outputId": "6b4c2a7f-22af-49c5-dec4-4f70f5f4c63d"
      },
      "source": [
        "#задание 13  \n",
        "r = Rational(-5,3); # делает рациональное число положительным, ввиду особенности работы % в питоне. Может это деж удобнее \n",
        "i,r = r.getMixedFrom()\n",
        "print(i,r)"
      ],
      "execution_count": null,
      "outputs": [
        {
          "output_type": "stream",
          "text": [
            "-1 2/3\n"
          ],
          "name": "stdout"
        }
      ]
    },
    {
      "cell_type": "code",
      "metadata": {
        "colab": {
          "base_uri": "https://localhost:8080/"
        },
        "id": "bh5KBOhNQ9n4",
        "outputId": "c287b982-7ea3-4a03-b773-e1667fc29211"
      },
      "source": [
        "#задание 14\n",
        "r = Rational(-5,3).toLatex()\n",
        "print(r)\n",
        "r = Rational(5,-3).toLatex(mixed=True)\n",
        "print(r)"
      ],
      "execution_count": null,
      "outputs": [
        {
          "output_type": "stream",
          "text": [
            "$\\dfrac{-5}{3}$\n",
            "$-1\\dfrac{2}{3}$\n"
          ],
          "name": "stdout"
        }
      ]
    },
    {
      "cell_type": "code",
      "metadata": {
        "id": "zP0EL7uusiXk",
        "colab": {
          "base_uri": "https://localhost:8080/",
          "height": 86
        },
        "outputId": "cadc42a9-9678-4dd5-a2c8-be87e703ea41"
      },
      "source": [
        "#задание 15 show \n",
        "r = Rational(-5,3)\n",
        "r.show()\n",
        "r = Rational(5,-3)\n",
        "r.show(mixed=True)"
      ],
      "execution_count": null,
      "outputs": [
        {
          "output_type": "display_data",
          "data": {
            "text/latex": "$$\\dfrac{-5}{3}$$",
            "text/plain": [
              "<IPython.core.display.Math object>"
            ]
          },
          "metadata": {
            "tags": []
          }
        },
        {
          "output_type": "display_data",
          "data": {
            "text/latex": "$$-1\\dfrac{2}{3}$$",
            "text/plain": [
              "<IPython.core.display.Math object>"
            ]
          },
          "metadata": {
            "tags": []
          }
        }
      ]
    }
  ]
}